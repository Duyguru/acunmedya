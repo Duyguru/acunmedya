{
 "cells": [
  {
   "cell_type": "markdown",
   "id": "680cfa66-2abf-4558-b7a3-ed45c6a696e1",
   "metadata": {},
   "source": [
    "# Numpy kütüphanesinden 10 adet fonksiyon örneği\n"
   ]
  },
  {
   "cell_type": "code",
   "execution_count": 2,
   "id": "caded8cb-1760-42d0-85e0-9fd33937d73b",
   "metadata": {},
   "outputs": [],
   "source": [
    "import numpy as np"
   ]
  },
  {
   "cell_type": "markdown",
   "id": "0f7b41d6-c511-4271-8d42-d9cef760730a",
   "metadata": {},
   "source": [
    "## 1- np.array()\n",
    "Python listeleri, tuple'ları veya diğer dizi benzeri nesneleri NumPy dizilerine dönüştürür.\n"
   ]
  },
  {
   "cell_type": "code",
   "execution_count": 3,
   "id": "a17c12b3-911f-4989-832a-2dcb1d5e4bb3",
   "metadata": {},
   "outputs": [
    {
     "data": {
      "text/plain": [
       "array([1, 2, 3])"
      ]
     },
     "execution_count": 3,
     "metadata": {},
     "output_type": "execute_result"
    }
   ],
   "source": [
    "np.array([1, 2, 3])"
   ]
  },
  {
   "cell_type": "markdown",
   "id": "f3425fab-0282-4876-a1ce-e816017dea7d",
   "metadata": {},
   "source": [
    "## 2- np.zeros()\n",
    "\n",
    "Belirtilen boyutta sıfırlarla dolu bir dizi oluşturur."
   ]
  },
  {
   "cell_type": "code",
   "execution_count": 4,
   "id": "c6c59c33-d232-4f2b-8c48-10610e410a38",
   "metadata": {},
   "outputs": [
    {
     "data": {
      "text/plain": [
       "array([[0., 0., 0.],\n",
       "       [0., 0., 0.],\n",
       "       [0., 0., 0.]])"
      ]
     },
     "execution_count": 4,
     "metadata": {},
     "output_type": "execute_result"
    }
   ],
   "source": [
    "np.zeros((3, 3))\n"
   ]
  },
  {
   "cell_type": "markdown",
   "id": "98598651-b462-444c-afe4-dd098af436e6",
   "metadata": {},
   "source": [
    "## 3-np.ones()\n",
    "Belirtilen boyutta birlerle dolu bir dizi oluşturur."
   ]
  },
  {
   "cell_type": "code",
   "execution_count": 5,
   "id": "8a0487a6-c40e-4fea-bec6-b59fd7f64c14",
   "metadata": {},
   "outputs": [
    {
     "data": {
      "text/plain": [
       "array([[1., 1., 1., 1.],\n",
       "       [1., 1., 1., 1.]])"
      ]
     },
     "execution_count": 5,
     "metadata": {},
     "output_type": "execute_result"
    }
   ],
   "source": [
    "np.ones((2, 4))"
   ]
  },
  {
   "cell_type": "markdown",
   "id": "b57b8760-0d3c-4ee2-becb-fe832eb0c3cd",
   "metadata": {},
   "source": [
    "## 4-np.arange()\n",
    "\n",
    "Belirli bir aralıkta düzenli aralıklarla değerler içeren bir dizi oluşturur."
   ]
  },
  {
   "cell_type": "code",
   "execution_count": 6,
   "id": "f7623228-330e-4fc8-851f-c8c8fa4710b9",
   "metadata": {},
   "outputs": [
    {
     "data": {
      "text/plain": [
       "array([0, 2, 4, 6, 8])"
      ]
     },
     "execution_count": 6,
     "metadata": {},
     "output_type": "execute_result"
    }
   ],
   "source": [
    "np.arange(0, 10, 2)"
   ]
  },
  {
   "cell_type": "markdown",
   "id": "95f185bd-39c5-4313-8f56-b8ff24086ab1",
   "metadata": {},
   "source": [
    "## 5-np.linspace()\n",
    "\n",
    "Belirli bir aralıkta eşit aralıklı değerler içeren bir dizi oluşturur."
   ]
  },
  {
   "cell_type": "code",
   "execution_count": 7,
   "id": "9b74280a-f2e2-48e6-8d6b-e11a8aa152e7",
   "metadata": {},
   "outputs": [
    {
     "data": {
      "text/plain": [
       "array([0.  , 0.25, 0.5 , 0.75, 1.  ])"
      ]
     },
     "execution_count": 7,
     "metadata": {},
     "output_type": "execute_result"
    }
   ],
   "source": [
    "np.linspace(0, 1, 5)"
   ]
  },
  {
   "cell_type": "markdown",
   "id": "5fe46a74-ae2f-494c-88be-d8d141c488c9",
   "metadata": {},
   "source": [
    "## 6-np.random.rand()\n",
    "\n",
    "0 ile 1 arasında rastgele sayılar içeren bir dizi oluşturur."
   ]
  },
  {
   "cell_type": "code",
   "execution_count": 8,
   "id": "41e3f512-6da5-48bf-a84e-66fb657667a9",
   "metadata": {},
   "outputs": [
    {
     "data": {
      "text/plain": [
       "array([[0.75573133, 0.37839058, 0.35395425],\n",
       "       [0.42376822, 0.26995145, 0.53923543],\n",
       "       [0.81711439, 0.73965998, 0.67309271]])"
      ]
     },
     "execution_count": 8,
     "metadata": {},
     "output_type": "execute_result"
    }
   ],
   "source": [
    "np.random.rand(3, 3)"
   ]
  },
  {
   "cell_type": "markdown",
   "id": "a92b3851-c525-4f9f-92ed-070191a7b694",
   "metadata": {},
   "source": [
    "## 7-np.reshape()\n",
    "\n",
    "Bir dizinin şeklini değiştirir."
   ]
  },
  {
   "cell_type": "code",
   "execution_count": 9,
   "id": "07dd2111-f4e0-4356-aac2-c57f62701be4",
   "metadata": {},
   "outputs": [
    {
     "data": {
      "text/plain": [
       "array([[0, 1, 2, 3],\n",
       "       [4, 5, 6, 7]])"
      ]
     },
     "execution_count": 9,
     "metadata": {},
     "output_type": "execute_result"
    }
   ],
   "source": [
    " np.arange(8).reshape(2, 4)"
   ]
  },
  {
   "cell_type": "markdown",
   "id": "aa1baf23-c513-4ccd-a2ee-a8a3390b7440",
   "metadata": {},
   "source": [
    "## 8-np.concatenate()\n",
    "\n",
    "Birden çok diziyi birleştirir."
   ]
  },
  {
   "cell_type": "code",
   "execution_count": 10,
   "id": "73219d53-5fbd-43d6-8b35-40429956754a",
   "metadata": {},
   "outputs": [
    {
     "data": {
      "text/plain": [
       "array([1, 2, 3, 4])"
      ]
     },
     "execution_count": 10,
     "metadata": {},
     "output_type": "execute_result"
    }
   ],
   "source": [
    "np.concatenate(([1, 2], [3, 4]))"
   ]
  },
  {
   "cell_type": "markdown",
   "id": "43dfae8e-8e22-4c7b-88f0-2ec4a2a119fe",
   "metadata": {},
   "source": [
    "## 9-np.sum()\n",
    "\n",
    "Bir dizinin elemanlarının toplamını hesaplar."
   ]
  },
  {
   "cell_type": "code",
   "execution_count": 11,
   "id": "3ff25e48-0627-4595-a952-117346e9ff53",
   "metadata": {},
   "outputs": [
    {
     "data": {
      "text/plain": [
       "np.int64(6)"
      ]
     },
     "execution_count": 11,
     "metadata": {},
     "output_type": "execute_result"
    }
   ],
   "source": [
    "np.sum([1, 2, 3])"
   ]
  },
  {
   "cell_type": "markdown",
   "id": "254a9e46-7a92-49f6-88d0-4d88744dd56c",
   "metadata": {},
   "source": [
    "## 10-np.mean()\n",
    "\n",
    "Bir dizinin elemanlarının ortalamasını hesaplar."
   ]
  },
  {
   "cell_type": "code",
   "execution_count": 13,
   "id": "59fd6947-a3e5-4dbb-8c27-25291257f001",
   "metadata": {},
   "outputs": [
    {
     "data": {
      "text/plain": [
       "np.float64(2.5)"
      ]
     },
     "execution_count": 13,
     "metadata": {},
     "output_type": "execute_result"
    }
   ],
   "source": [
    "np.mean([1, 2, 3, 4])"
   ]
  },
  {
   "cell_type": "code",
   "execution_count": null,
   "id": "3476d8b2-c0ba-441a-a605-7c061ca30738",
   "metadata": {},
   "outputs": [],
   "source": []
  }
 ],
 "metadata": {
  "kernelspec": {
   "display_name": "Python 3 (ipykernel)",
   "language": "python",
   "name": "python3"
  },
  "language_info": {
   "codemirror_mode": {
    "name": "ipython",
    "version": 3
   },
   "file_extension": ".py",
   "mimetype": "text/x-python",
   "name": "python",
   "nbconvert_exporter": "python",
   "pygments_lexer": "ipython3",
   "version": "3.13.2"
  }
 },
 "nbformat": 4,
 "nbformat_minor": 5
}
