{
 "cells": [
  {
   "cell_type": "markdown",
   "id": "6cf66ade-cd63-4ecb-b255-85f8ff5e52d4",
   "metadata": {},
   "source": [
    "print(\"Duygu\")"
   ]
  },
  {
   "cell_type": "markdown",
   "id": "12dd210a-f349-457f-a07e-67e1a1cbfc80",
   "metadata": {},
   "source": [
    "# Pandas\n",
    "Pandas pythonda veri analiz ve manipülasyonu yapmamızı sağlayan bir kütüphanedir.\n"
   ]
  },
  {
   "cell_type": "code",
   "execution_count": 3,
   "id": "bd322f92-606a-444f-9ced-562ff0af6d1b",
   "metadata": {},
   "outputs": [],
   "source": [
    "import pandas as pd\n"
   ]
  },
  {
   "cell_type": "markdown",
   "id": "a211c670-2b73-4602-acf8-af268e36fa6b",
   "metadata": {},
   "source": [
    "# Pandas Series\n",
    "Tek boyutlu dizilerdir.(Exceldeki sütun)"
   ]
  },
  {
   "cell_type": "code",
   "execution_count": 4,
   "id": "0ab01b3b-e573-47d2-ab4a-3ad6ea4fc913",
   "metadata": {},
   "outputs": [
    {
     "data": {
      "text/plain": [
       "0    10\n",
       "1    20\n",
       "2    30\n",
       "3    40\n",
       "dtype: int64"
      ]
     },
     "execution_count": 4,
     "metadata": {},
     "output_type": "execute_result"
    }
   ],
   "source": [
    "series1 = pd.Series( [10,20,30,40])\n",
    "series1"
   ]
  },
  {
   "cell_type": "markdown",
   "id": "fca72e2a-8760-4713-92f1-eaba2a067db3",
   "metadata": {},
   "source": [
    "# Pandas DataFrame (Tablo)\n",
    "Birden fazla sütun içeren tablo (Excel dosyası)"
   ]
  },
  {
   "cell_type": "code",
   "execution_count": 5,
   "id": "51fa7f62-1df1-4397-94d3-390926414bf1",
   "metadata": {},
   "outputs": [],
   "source": [
    "data = {  \"Ad\": [\"Ali\",\"Ayşe\",\"Mehmet\",\"Zeynep\"], \"Yaş\": [25,30,35,40]   }"
   ]
  },
  {
   "cell_type": "code",
   "execution_count": 6,
   "id": "058ef03c-1508-40f1-980e-34f795857713",
   "metadata": {},
   "outputs": [
    {
     "data": {
      "text/html": [
       "<div>\n",
       "<style scoped>\n",
       "    .dataframe tbody tr th:only-of-type {\n",
       "        vertical-align: middle;\n",
       "    }\n",
       "\n",
       "    .dataframe tbody tr th {\n",
       "        vertical-align: top;\n",
       "    }\n",
       "\n",
       "    .dataframe thead th {\n",
       "        text-align: right;\n",
       "    }\n",
       "</style>\n",
       "<table border=\"1\" class=\"dataframe\">\n",
       "  <thead>\n",
       "    <tr style=\"text-align: right;\">\n",
       "      <th></th>\n",
       "      <th>Ad</th>\n",
       "      <th>Yaş</th>\n",
       "    </tr>\n",
       "  </thead>\n",
       "  <tbody>\n",
       "    <tr>\n",
       "      <th>0</th>\n",
       "      <td>Ali</td>\n",
       "      <td>25</td>\n",
       "    </tr>\n",
       "    <tr>\n",
       "      <th>1</th>\n",
       "      <td>Ayşe</td>\n",
       "      <td>30</td>\n",
       "    </tr>\n",
       "    <tr>\n",
       "      <th>2</th>\n",
       "      <td>Mehmet</td>\n",
       "      <td>35</td>\n",
       "    </tr>\n",
       "    <tr>\n",
       "      <th>3</th>\n",
       "      <td>Zeynep</td>\n",
       "      <td>40</td>\n",
       "    </tr>\n",
       "  </tbody>\n",
       "</table>\n",
       "</div>"
      ],
      "text/plain": [
       "       Ad  Yaş\n",
       "0     Ali   25\n",
       "1    Ayşe   30\n",
       "2  Mehmet   35\n",
       "3  Zeynep   40"
      ]
     },
     "execution_count": 6,
     "metadata": {},
     "output_type": "execute_result"
    }
   ],
   "source": [
    "df1 = pd.DataFrame(data)\n",
    "df1"
   ]
  },
  {
   "cell_type": "code",
   "execution_count": 7,
   "id": "f108a77a-0b9b-48a5-bc72-54e59955f0c9",
   "metadata": {},
   "outputs": [
    {
     "ename": "FileNotFoundError",
     "evalue": "[Errno 2] No such file or directory: 'archive.zip'",
     "output_type": "error",
     "traceback": [
      "\u001b[31m---------------------------------------------------------------------------\u001b[39m",
      "\u001b[31mFileNotFoundError\u001b[39m                         Traceback (most recent call last)",
      "\u001b[36mCell\u001b[39m\u001b[36m \u001b[39m\u001b[32mIn[7]\u001b[39m\u001b[32m, line 9\u001b[39m\n\u001b[32m      6\u001b[39m extract_folder = \u001b[33m\"\u001b[39m\u001b[33mdataset\u001b[39m\u001b[33m\"\u001b[39m\n\u001b[32m      8\u001b[39m \u001b[38;5;66;03m# ZIP dosyasını aç ve çıkar\u001b[39;00m\n\u001b[32m----> \u001b[39m\u001b[32m9\u001b[39m \u001b[38;5;28;01mwith\u001b[39;00m \u001b[43mzipfile\u001b[49m\u001b[43m.\u001b[49m\u001b[43mZipFile\u001b[49m\u001b[43m(\u001b[49m\u001b[43mzip_path\u001b[49m\u001b[43m,\u001b[49m\u001b[43m \u001b[49m\u001b[33;43m'\u001b[39;49m\u001b[33;43mr\u001b[39;49m\u001b[33;43m'\u001b[39;49m\u001b[43m)\u001b[49m \u001b[38;5;28;01mas\u001b[39;00m zip_ref:\n\u001b[32m     10\u001b[39m     zip_ref.extractall(extract_folder)\n\u001b[32m     12\u001b[39m \u001b[38;5;66;03m# Çıkarılan dosyaları listele\u001b[39;00m\n",
      "\u001b[36mFile \u001b[39m\u001b[32m~\\AppData\\Local\\Programs\\Python\\Python313\\Lib\\zipfile\\__init__.py:1367\u001b[39m, in \u001b[36mZipFile.__init__\u001b[39m\u001b[34m(self, file, mode, compression, allowZip64, compresslevel, strict_timestamps, metadata_encoding)\u001b[39m\n\u001b[32m   1365\u001b[39m \u001b[38;5;28;01mwhile\u001b[39;00m \u001b[38;5;28;01mTrue\u001b[39;00m:\n\u001b[32m   1366\u001b[39m     \u001b[38;5;28;01mtry\u001b[39;00m:\n\u001b[32m-> \u001b[39m\u001b[32m1367\u001b[39m         \u001b[38;5;28mself\u001b[39m.fp = \u001b[43mio\u001b[49m\u001b[43m.\u001b[49m\u001b[43mopen\u001b[49m\u001b[43m(\u001b[49m\u001b[43mfile\u001b[49m\u001b[43m,\u001b[49m\u001b[43m \u001b[49m\u001b[43mfilemode\u001b[49m\u001b[43m)\u001b[49m\n\u001b[32m   1368\u001b[39m     \u001b[38;5;28;01mexcept\u001b[39;00m \u001b[38;5;167;01mOSError\u001b[39;00m:\n\u001b[32m   1369\u001b[39m         \u001b[38;5;28;01mif\u001b[39;00m filemode \u001b[38;5;129;01min\u001b[39;00m modeDict:\n",
      "\u001b[31mFileNotFoundError\u001b[39m: [Errno 2] No such file or directory: 'archive.zip'"
     ]
    }
   ],
   "source": [
    "import zipfile\n",
    "import os\n",
    "\n",
    "# ZIP dosyasının adı (Notebook’un olduğu klasörde)\n",
    "zip_path = \"archive.zip\"\n",
    "extract_folder = \"dataset\"\n",
    "\n",
    "# ZIP dosyasını aç ve çıkar\n",
    "with zipfile.ZipFile(zip_path, 'r') as zip_ref:\n",
    "    zip_ref.extractall(extract_folder)\n",
    "\n",
    "# Çıkarılan dosyaları listele\n",
    "os.listdir(extract_folder)"
   ]
  },
  {
   "cell_type": "code",
   "execution_count": null,
   "id": "2d71fa01-6b7c-4a94-bb0d-8b6f5b48cb58",
   "metadata": {},
   "outputs": [],
   "source": [
    "df2 = pd.read_csv(\"Chocolate Sales.csv\")\n",
    "df2"
   ]
  },
  {
   "cell_type": "code",
   "execution_count": null,
   "id": "cc716b10-9822-46d4-b01a-e6e3d5dc2cdb",
   "metadata": {},
   "outputs": [],
   "source": [
    "import os\n",
    "os.getcwd()"
   ]
  },
  {
   "cell_type": "code",
   "execution_count": null,
   "id": "e9301a7e-bf4c-4e32-a143-d44d63811b40",
   "metadata": {},
   "outputs": [],
   "source": [
    "os.listdir()\n"
   ]
  },
  {
   "cell_type": "code",
   "execution_count": null,
   "id": "b42ad514-5a21-42de-bed8-7cc728e90fb7",
   "metadata": {},
   "outputs": [],
   "source": [
    "os.listdir('dataset')\n"
   ]
  },
  {
   "cell_type": "code",
   "execution_count": null,
   "id": "769bc0f9-b1fd-4b9b-b89c-490c3bf12c8e",
   "metadata": {},
   "outputs": [],
   "source": [
    "\n",
    "\n",
    "df2 = pd.read_csv('dataset/Chocolate Sales.csv')\n",
    "df2\n"
   ]
  },
  {
   "cell_type": "markdown",
   "id": "75218f26-317d-40dc-99c2-d09badd920e8",
   "metadata": {},
   "source": [
    "## Veri Ön Hazırlığı"
   ]
  },
  {
   "cell_type": "code",
   "execution_count": 13,
   "id": "65f775d4-5d57-4a28-8f3a-1c2dd8f9ccc0",
   "metadata": {},
   "outputs": [
    {
     "data": {
      "text/html": [
       "<div>\n",
       "<style scoped>\n",
       "    .dataframe tbody tr th:only-of-type {\n",
       "        vertical-align: middle;\n",
       "    }\n",
       "\n",
       "    .dataframe tbody tr th {\n",
       "        vertical-align: top;\n",
       "    }\n",
       "\n",
       "    .dataframe thead th {\n",
       "        text-align: right;\n",
       "    }\n",
       "</style>\n",
       "<table border=\"1\" class=\"dataframe\">\n",
       "  <thead>\n",
       "    <tr style=\"text-align: right;\">\n",
       "      <th></th>\n",
       "      <th>Sales Person</th>\n",
       "      <th>Country</th>\n",
       "      <th>Product</th>\n",
       "      <th>Date</th>\n",
       "      <th>Amount</th>\n",
       "      <th>Boxes Shipped</th>\n",
       "    </tr>\n",
       "  </thead>\n",
       "  <tbody>\n",
       "    <tr>\n",
       "      <th>0</th>\n",
       "      <td>Jehu Rudeforth</td>\n",
       "      <td>UK</td>\n",
       "      <td>Mint Chip Choco</td>\n",
       "      <td>04-Jan-22</td>\n",
       "      <td>$5,320</td>\n",
       "      <td>180.0</td>\n",
       "    </tr>\n",
       "    <tr>\n",
       "      <th>1</th>\n",
       "      <td>Van Tuxwell</td>\n",
       "      <td>India</td>\n",
       "      <td>85% Dark Bars</td>\n",
       "      <td>01-Aug-22</td>\n",
       "      <td>$7,896</td>\n",
       "      <td>NaN</td>\n",
       "    </tr>\n",
       "    <tr>\n",
       "      <th>2</th>\n",
       "      <td>Gigi Bohling</td>\n",
       "      <td>India</td>\n",
       "      <td>Peanut Butter Cubes</td>\n",
       "      <td>NaN</td>\n",
       "      <td>$4,501</td>\n",
       "      <td>91.0</td>\n",
       "    </tr>\n",
       "    <tr>\n",
       "      <th>3</th>\n",
       "      <td>Jan Morforth</td>\n",
       "      <td>Australia</td>\n",
       "      <td>Peanut Butter Cubes</td>\n",
       "      <td>27-Apr-22</td>\n",
       "      <td>NaN</td>\n",
       "      <td>NaN</td>\n",
       "    </tr>\n",
       "    <tr>\n",
       "      <th>4</th>\n",
       "      <td>Jehu Rudeforth</td>\n",
       "      <td>UK</td>\n",
       "      <td>NaN</td>\n",
       "      <td>24-Feb-22</td>\n",
       "      <td>$13,685</td>\n",
       "      <td>184.0</td>\n",
       "    </tr>\n",
       "    <tr>\n",
       "      <th>...</th>\n",
       "      <td>...</td>\n",
       "      <td>...</td>\n",
       "      <td>...</td>\n",
       "      <td>...</td>\n",
       "      <td>...</td>\n",
       "      <td>...</td>\n",
       "    </tr>\n",
       "    <tr>\n",
       "      <th>1089</th>\n",
       "      <td>Karlen McCaffrey</td>\n",
       "      <td>Australia</td>\n",
       "      <td>Spicy Special Slims</td>\n",
       "      <td>17-May-22</td>\n",
       "      <td>$4,410</td>\n",
       "      <td>323.0</td>\n",
       "    </tr>\n",
       "    <tr>\n",
       "      <th>1090</th>\n",
       "      <td>Jehu Rudeforth</td>\n",
       "      <td>USA</td>\n",
       "      <td>White Choc</td>\n",
       "      <td>07-Jun-22</td>\n",
       "      <td>$6,559</td>\n",
       "      <td>119.0</td>\n",
       "    </tr>\n",
       "    <tr>\n",
       "      <th>1091</th>\n",
       "      <td>Ches Bonnell</td>\n",
       "      <td>Canada</td>\n",
       "      <td>Organic Choco Syrup</td>\n",
       "      <td>26-Jul-22</td>\n",
       "      <td>$574</td>\n",
       "      <td>217.0</td>\n",
       "    </tr>\n",
       "    <tr>\n",
       "      <th>1092</th>\n",
       "      <td>Dotty Strutley</td>\n",
       "      <td>India</td>\n",
       "      <td>Eclairs</td>\n",
       "      <td>28-Jul-22</td>\n",
       "      <td>$2,086</td>\n",
       "      <td>384.0</td>\n",
       "    </tr>\n",
       "    <tr>\n",
       "      <th>1093</th>\n",
       "      <td>Karlen McCaffrey</td>\n",
       "      <td>India</td>\n",
       "      <td>70% Dark Bites</td>\n",
       "      <td>23-May-22</td>\n",
       "      <td>$5,075</td>\n",
       "      <td>344.0</td>\n",
       "    </tr>\n",
       "  </tbody>\n",
       "</table>\n",
       "<p>1094 rows × 6 columns</p>\n",
       "</div>"
      ],
      "text/plain": [
       "          Sales Person    Country              Product       Date    Amount  \\\n",
       "0       Jehu Rudeforth         UK      Mint Chip Choco  04-Jan-22   $5,320    \n",
       "1          Van Tuxwell      India        85% Dark Bars  01-Aug-22   $7,896    \n",
       "2         Gigi Bohling      India  Peanut Butter Cubes        NaN   $4,501    \n",
       "3         Jan Morforth  Australia  Peanut Butter Cubes  27-Apr-22       NaN   \n",
       "4       Jehu Rudeforth         UK                  NaN  24-Feb-22  $13,685    \n",
       "...                ...        ...                  ...        ...       ...   \n",
       "1089  Karlen McCaffrey  Australia  Spicy Special Slims  17-May-22   $4,410    \n",
       "1090    Jehu Rudeforth        USA           White Choc  07-Jun-22   $6,559    \n",
       "1091      Ches Bonnell     Canada  Organic Choco Syrup  26-Jul-22     $574    \n",
       "1092    Dotty Strutley      India              Eclairs  28-Jul-22   $2,086    \n",
       "1093  Karlen McCaffrey      India       70% Dark Bites  23-May-22   $5,075    \n",
       "\n",
       "      Boxes Shipped  \n",
       "0             180.0  \n",
       "1               NaN  \n",
       "2              91.0  \n",
       "3               NaN  \n",
       "4             184.0  \n",
       "...             ...  \n",
       "1089          323.0  \n",
       "1090          119.0  \n",
       "1091          217.0  \n",
       "1092          384.0  \n",
       "1093          344.0  \n",
       "\n",
       "[1094 rows x 6 columns]"
      ]
     },
     "execution_count": 13,
     "metadata": {},
     "output_type": "execute_result"
    }
   ],
   "source": [
    "# Verileri boş olan bir csv dosyası yükle.\n",
    "df=pd.read_csv(\"Chocolate Sales2.csv\")\n",
    "df"
   ]
  },
  {
   "cell_type": "code",
   "execution_count": null,
   "id": "c10d775c-63d2-4ee9-96b2-aaf4873ab462",
   "metadata": {},
   "outputs": [],
   "source": [
    "df.isnull()"
   ]
  },
  {
   "cell_type": "code",
   "execution_count": null,
   "id": "ab15999f-2084-4d18-a665-bf5116e936da",
   "metadata": {},
   "outputs": [],
   "source": [
    "df.isnull().sum()"
   ]
  },
  {
   "cell_type": "code",
   "execution_count": null,
   "id": "d60e8894-4224-4db0-b7c8-b8581d8bd5c5",
   "metadata": {},
   "outputs": [],
   "source": [
    "df[\"Boxes Shipped\"]"
   ]
  },
  {
   "cell_type": "code",
   "execution_count": null,
   "id": "c1ac0c55-7ab5-4149-b075-4fd8abc19540",
   "metadata": {},
   "outputs": [],
   "source": [
    "#Dolu verilerin aritmetik ortalaması\n",
    "df[\"Boxes Shipped\"].mean()"
   ]
  },
  {
   "cell_type": "code",
   "execution_count": null,
   "id": "6fec7be7-37eb-47ec-8d53-d3271a583591",
   "metadata": {},
   "outputs": [],
   "source": [
    "df[\"Boxes Shipped\"]=df[\"Boxes Shipped\"].fillna( df[\"Boxes Shipped\"].mean())"
   ]
  },
  {
   "cell_type": "code",
   "execution_count": null,
   "id": "7f70a233-0edb-4958-b694-584d3e8813a9",
   "metadata": {},
   "outputs": [],
   "source": [
    "df[\"Boxes Shipped\"]"
   ]
  },
  {
   "cell_type": "code",
   "execution_count": null,
   "id": "15a55888-ebc4-49be-a533-0c7dc51bde81",
   "metadata": {},
   "outputs": [],
   "source": [
    "df.isnull().sum()"
   ]
  },
  {
   "cell_type": "code",
   "execution_count": null,
   "id": "ba0952d1-61bd-4b37-9ab2-4338037a4532",
   "metadata": {},
   "outputs": [],
   "source": [
    "df[\"Amount\"]"
   ]
  },
  {
   "cell_type": "code",
   "execution_count": null,
   "id": "9eaf9d1f-bb09-4fce-927d-423153258cc5",
   "metadata": {},
   "outputs": [],
   "source": [
    "# Veri Formatı Değiştirilmeli\n",
    "# #5,320 -> 5320 float -> mean()\n",
    "df['Amount']=df['Amount'].astype(str).str.replace(\"[$,]\",\"\",regex=True).astype(float)\n",
    "df[\"Amount\"]"
   ]
  },
  {
   "cell_type": "code",
   "execution_count": null,
   "id": "debfb56b-a801-4e70-9ce7-8f8b7cd6f792",
   "metadata": {},
   "outputs": [],
   "source": [
    "df['Amount'].mean()"
   ]
  },
  {
   "cell_type": "code",
   "execution_count": null,
   "id": "b0e23583-d10c-40de-a1fd-76fc6eaa1712",
   "metadata": {},
   "outputs": [],
   "source": [
    "df['Amount'].fillna( df['Amount'].mean() , inplace=True)\n",
    "df[\"Amount\"]"
   ]
  },
  {
   "cell_type": "code",
   "execution_count": null,
   "id": "2401e8b8-bf48-479c-8a7d-bd72fd6fed5c",
   "metadata": {},
   "outputs": [],
   "source": [
    "df.isnull().sum()"
   ]
  },
  {
   "cell_type": "markdown",
   "id": "f58a4980-42f0-4693-a65d-6b331d383011",
   "metadata": {},
   "source": [
    "## ForwardFill BackwardFill"
   ]
  },
  {
   "cell_type": "code",
   "execution_count": null,
   "id": "fbb27cfb-5940-4df6-b52a-48a18e8274a7",
   "metadata": {},
   "outputs": [],
   "source": [
    "df[\"Date\"]"
   ]
  },
  {
   "cell_type": "code",
   "execution_count": null,
   "id": "9a1666cf-d002-46da-a920-f591ef712ee2",
   "metadata": {},
   "outputs": [],
   "source": [
    "#df[\"Date\"]=df[\"Date\"].fillna(method=\"ffill\").fillna(method=\"bfill\")\n",
    "df[\"Date\"]=df[\"Date\"].ffill().bfill()"
   ]
  },
  {
   "cell_type": "code",
   "execution_count": null,
   "id": "da48dec2-83f0-4643-b6c5-64c46f3b5724",
   "metadata": {},
   "outputs": [],
   "source": [
    "df[\"Date\"]"
   ]
  },
  {
   "cell_type": "code",
   "execution_count": null,
   "id": "bf249bf6-122c-4a1f-ba04-b415209035eb",
   "metadata": {},
   "outputs": [],
   "source": [
    "df.isnull().sum()"
   ]
  },
  {
   "cell_type": "code",
   "execution_count": null,
   "id": "da12259c-c36f-4240-a07d-43403e98555a",
   "metadata": {},
   "outputs": [],
   "source": [
    "# En çok tekrar eden değerler\n",
    "df[\"Country\"].mode()[0]"
   ]
  },
  {
   "cell_type": "code",
   "execution_count": null,
   "id": "d967ef70-49ce-4f75-b047-05ba9c590c7e",
   "metadata": {},
   "outputs": [],
   "source": [
    "#df['Country'].fillna(df['Country'].mode()[0],inplace=True)\n",
    "df[\"Country\"]=df['Country'].fillna(df['Country'].mode()[0])"
   ]
  },
  {
   "cell_type": "code",
   "execution_count": 14,
   "id": "dde38c23-f9ad-487f-9b90-3f85c708a78b",
   "metadata": {},
   "outputs": [
    {
     "data": {
      "text/plain": [
       "Sales Person      0\n",
       "Country          12\n",
       "Product          13\n",
       "Date              9\n",
       "Amount            8\n",
       "Boxes Shipped    11\n",
       "dtype: int64"
      ]
     },
     "execution_count": 14,
     "metadata": {},
     "output_type": "execute_result"
    }
   ],
   "source": [
    "df.isnull().sum()"
   ]
  },
  {
   "cell_type": "markdown",
   "id": "6d454489-2bc3-4ec4-bf91-377e43175774",
   "metadata": {},
   "source": [
    "### Product alanını dolduralım. -> Her bir sales person için en çok sattığı ürünle o boş alan dolmalı."
   ]
  },
  {
   "cell_type": "code",
   "execution_count": 33,
   "id": "5849b080-d488-4459-8ed6-81f7097e7fbf",
   "metadata": {},
   "outputs": [
    {
     "data": {
      "text/plain": [
       "'\\nSatış Elemanı Başına En Çok Satılan Ürünü Bulma:\\n\\ndf.groupby(\\'Sales Person\\')[\\'Product\\'] komutuyla, DataFrame\\'i \"Sales Person\" (Satış Elemanı) sütununa göre gruplandırıyoruz \\nve ardından \"Product\" (Ürün) sütununu seçiyoruz.\\n\\n.apply(lambda x: x.value_counts().index[0] if len(x.value_counts()) > 0 else np.nan) komutu, her satış elemanı grubu için aşağıdaki işlemleri yapar:\\nx.value_counts(): Her ürünün kaç kez satıldığını sayar.\\n\\n.index[0]: En çok satılan ürünün adını alır.\\nif len(x.value_counts()) > 0 else np.nan: Eğer bir satış elemanının hiç ürünü yoksa, NaN (boş değer) döndürür.\\nSonuç olarak, most_sold_products adlı bir seri elde ederiz. Bu seri, her satış elemanı için en çok satılan ürünün adını içerir.\\n\\nBoş Ürün Alanlarını Doldurma:\\ndf[\\'Product\\'] = df.apply(lambda row: most_sold_products[row[\\'Sales Person\\']] if pd.isnull(row[\\'Product\\']) else row[\\'Product\\'], axis=1) komutu, DataFrame\\'deki her satır için aşağıdaki işlemleri yapar:\\npd.isnull(row[\\'Product\\']): \"Product\" sütunundaki değerin boş olup olmadığını kontrol eder.\\n\\nmost_sold_products[row[\\'Sales Person\\']]: Eğer değer boşsa, ilgili satış elemanının en çok satılan ürününü alır.\\nelse row[\\'Product\\']: Eğer değer boş değilse, mevcut değeri korur.\\nBu şekilde, \"Product\" sütunundaki boş değerler, ilgili satış elemanının en çok satılan ürünüyle doldurulur.\\n'"
      ]
     },
     "execution_count": 33,
     "metadata": {},
     "output_type": "execute_result"
    }
   ],
   "source": [
    "# Satış elemanı başına en çok satılan ürünü bul\n",
    "most_sold_products = df.groupby('Sales Person')['Product'].apply(lambda x: x.value_counts().index[0] if len(x.value_counts()) > 0 else np.nan)\n",
    "\n",
    "# Boş ürün alanlarını doldur\n",
    "df['Product'] = df.apply(lambda row: most_sold_products[row['Sales Person']] if pd.isnull(row['Product']) else row['Product'], axis=1)\n",
    "\n",
    "'''\n",
    "Satış Elemanı Başına En Çok Satılan Ürünü Bulma:\n",
    "\n",
    "df.groupby('Sales Person')['Product'] komutuyla, DataFrame'i \"Sales Person\" (Satış Elemanı) sütununa göre gruplandırıyoruz \n",
    "ve ardından \"Product\" (Ürün) sütununu seçiyoruz.\n",
    "\n",
    ".apply(lambda x: x.value_counts().index[0] if len(x.value_counts()) > 0 else np.nan) komutu, her satış elemanı grubu için aşağıdaki işlemleri yapar:\n",
    "x.value_counts(): Her ürünün kaç kez satıldığını sayar.\n",
    "\n",
    ".index[0]: En çok satılan ürünün adını alır.\n",
    "if len(x.value_counts()) > 0 else np.nan: Eğer bir satış elemanının hiç ürünü yoksa, NaN (boş değer) döndürür.\n",
    "Sonuç olarak, most_sold_products adlı bir seri elde ederiz. Bu seri, her satış elemanı için en çok satılan ürünün adını içerir.\n",
    "\n",
    "Boş Ürün Alanlarını Doldurma:\n",
    "df['Product'] = df.apply(lambda row: most_sold_products[row['Sales Person']] if pd.isnull(row['Product']) else row['Product'], axis=1) komutu, DataFrame'deki her satır için aşağıdaki işlemleri yapar:\n",
    "pd.isnull(row['Product']): \"Product\" sütunundaki değerin boş olup olmadığını kontrol eder.\n",
    "\n",
    "most_sold_products[row['Sales Person']]: Eğer değer boşsa, ilgili satış elemanının en çok satılan ürününü alır.\n",
    "else row['Product']: Eğer değer boş değilse, mevcut değeri korur.\n",
    "Bu şekilde, \"Product\" sütunundaki boş değerler, ilgili satış elemanının en çok satılan ürünüyle doldurulur.\n",
    "'''"
   ]
  },
  {
   "cell_type": "code",
   "execution_count": 31,
   "id": "0d5e5958-0f00-43ac-972d-4034eb8768bc",
   "metadata": {},
   "outputs": [
    {
     "data": {
      "text/plain": [
       "Sales Person      0\n",
       "Country          12\n",
       "Product           0\n",
       "Date              9\n",
       "Amount            8\n",
       "Boxes Shipped    11\n",
       "Product_top       0\n",
       "Product_top       0\n",
       "Product_top       0\n",
       "Product_top       0\n",
       "Product_top       0\n",
       "Product_top       0\n",
       "Product_top       0\n",
       "Product_top       0\n",
       "Product_top       0\n",
       "Product_top       0\n",
       "Product_top       0\n",
       "dtype: int64"
      ]
     },
     "execution_count": 31,
     "metadata": {},
     "output_type": "execute_result"
    }
   ],
   "source": [
    "df.isnull().sum()"
   ]
  },
  {
   "cell_type": "code",
   "execution_count": 10,
   "id": "8e66effc-cfed-4154-ac11-df8d85164e38",
   "metadata": {},
   "outputs": [
    {
     "data": {
      "text/html": [
       "<div>\n",
       "<style scoped>\n",
       "    .dataframe tbody tr th:only-of-type {\n",
       "        vertical-align: middle;\n",
       "    }\n",
       "\n",
       "    .dataframe tbody tr th {\n",
       "        vertical-align: top;\n",
       "    }\n",
       "\n",
       "    .dataframe thead th {\n",
       "        text-align: right;\n",
       "    }\n",
       "</style>\n",
       "<table border=\"1\" class=\"dataframe\">\n",
       "  <thead>\n",
       "    <tr style=\"text-align: right;\">\n",
       "      <th></th>\n",
       "      <th>Product</th>\n",
       "      <th>Amount</th>\n",
       "    </tr>\n",
       "  </thead>\n",
       "  <tbody>\n",
       "    <tr>\n",
       "      <th>0</th>\n",
       "      <td>A</td>\n",
       "      <td>100.0</td>\n",
       "    </tr>\n",
       "    <tr>\n",
       "      <th>1</th>\n",
       "      <td>B</td>\n",
       "      <td>200.0</td>\n",
       "    </tr>\n",
       "    <tr>\n",
       "      <th>2</th>\n",
       "      <td>A</td>\n",
       "      <td>150.0</td>\n",
       "    </tr>\n",
       "    <tr>\n",
       "      <th>3</th>\n",
       "      <td>B</td>\n",
       "      <td>250.0</td>\n",
       "    </tr>\n",
       "    <tr>\n",
       "      <th>4</th>\n",
       "      <td>A</td>\n",
       "      <td>NaN</td>\n",
       "    </tr>\n",
       "    <tr>\n",
       "      <th>5</th>\n",
       "      <td>C</td>\n",
       "      <td>300.0</td>\n",
       "    </tr>\n",
       "    <tr>\n",
       "      <th>6</th>\n",
       "      <td>C</td>\n",
       "      <td>NaN</td>\n",
       "    </tr>\n",
       "  </tbody>\n",
       "</table>\n",
       "</div>"
      ],
      "text/plain": [
       "  Product  Amount\n",
       "0       A   100.0\n",
       "1       B   200.0\n",
       "2       A   150.0\n",
       "3       B   250.0\n",
       "4       A     NaN\n",
       "5       C   300.0\n",
       "6       C     NaN"
      ]
     },
     "execution_count": 10,
     "metadata": {},
     "output_type": "execute_result"
    }
   ],
   "source": [
    "data = {\n",
    "    \"Product\": [\"A\", \"B\", \"A\", \"B\", \"A\", \"C\", \"C\"],\n",
    "    \"Amount\": [100, 200, 150, 250, None, 300, None]\n",
    "}\n",
    "\n",
    "df1 = pd.DataFrame(data)\n",
    "df1"
   ]
  },
  {
   "cell_type": "code",
   "execution_count": null,
   "id": "831aa8b1-0b79-4a3c-81df-ca6c487bc60d",
   "metadata": {},
   "outputs": [],
   "source": [
    "df1[\"Amount\"].mean()"
   ]
  },
  {
   "cell_type": "code",
   "execution_count": null,
   "id": "e87f1ac2-cc70-4b68-8309-ee25ef76b425",
   "metadata": {},
   "outputs": [],
   "source": [
    "df1.groupby(\"Product\")[\"Amount\"].mean()"
   ]
  },
  {
   "cell_type": "code",
   "execution_count": null,
   "id": "e5033745-a624-4dfa-8fcd-bfe6f78791c5",
   "metadata": {},
   "outputs": [],
   "source": []
  }
 ],
 "metadata": {
  "kernelspec": {
   "display_name": "Python 3 (ipykernel)",
   "language": "python",
   "name": "python3"
  },
  "language_info": {
   "codemirror_mode": {
    "name": "ipython",
    "version": 3
   },
   "file_extension": ".py",
   "mimetype": "text/x-python",
   "name": "python",
   "nbconvert_exporter": "python",
   "pygments_lexer": "ipython3",
   "version": "3.13.2"
  }
 },
 "nbformat": 4,
 "nbformat_minor": 5
}
