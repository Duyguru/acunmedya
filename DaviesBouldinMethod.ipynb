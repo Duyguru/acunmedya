{
 "cells": [
  {
   "cell_type": "markdown",
   "id": "aec41d53-b99d-4525-9a3b-30d7e65cba05",
   "metadata": {},
   "source": [
    "# Davies Bouldin Method\n",
    "DBI ne kadar küçükse, kümeleme o kadar iyidir.\n",
    "\n",
    "Çünkü bu durumda kümeler birbirinden uzak ve içeride sıkı olur."
   ]
  },
  {
   "cell_type": "code",
   "execution_count": 1,
   "id": "c66c68fa-8699-4297-b6cf-f700070a1654",
   "metadata": {},
   "outputs": [
    {
     "name": "stdout",
     "output_type": "stream",
     "text": [
      "Davies-Bouldin Index: 0.21231599538998425\n"
     ]
    }
   ],
   "source": [
    "from sklearn.metrics import davies_bouldin_score\n",
    "from sklearn.datasets import make_blobs\n",
    "from sklearn.cluster import KMeans\n",
    "\n",
    "X, _ = make_blobs(n_samples=300, centers=3, random_state=42)\n",
    "kmeans = KMeans(n_clusters=3)\n",
    "labels = kmeans.fit_predict(X)\n",
    "\n",
    "db_score = davies_bouldin_score(X, labels)\n",
    "print(\"Davies-Bouldin Index:\", db_score)"
   ]
  }
 ],
 "metadata": {
  "kernelspec": {
   "display_name": "Python 3 (ipykernel)",
   "language": "python",
   "name": "python3"
  },
  "language_info": {
   "codemirror_mode": {
    "name": "ipython",
    "version": 3
   },
   "file_extension": ".py",
   "mimetype": "text/x-python",
   "name": "python",
   "nbconvert_exporter": "python",
   "pygments_lexer": "ipython3",
   "version": "3.13.2"
  }
 },
 "nbformat": 4,
 "nbformat_minor": 5
}
